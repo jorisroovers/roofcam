{
 "cells": [
  {
   "cell_type": "markdown",
   "metadata": {},
   "source": [
    "# Loading the data"
   ]
  },
  {
   "cell_type": "code",
   "execution_count": 28,
   "metadata": {
    "collapsed": true
   },
   "outputs": [],
   "source": [
    "import numpy\n",
    "import pandas\n",
    "import json"
   ]
  },
  {
   "cell_type": "code",
   "execution_count": 32,
   "metadata": {},
   "outputs": [
    {
     "data": {
      "text/html": [
       "<div>\n",
       "<table border=\"1\" class=\"dataframe\">\n",
       "  <thead>\n",
       "    <tr style=\"text-align: right;\">\n",
       "      <th></th>\n",
       "      <th>class</th>\n",
       "      <th>name</th>\n",
       "    </tr>\n",
       "  </thead>\n",
       "  <tbody>\n",
       "    <tr>\n",
       "      <th>0</th>\n",
       "      <td>NIGHT</td>\n",
       "      <td>snapshot-2017-07-22_20-20-01.jpg</td>\n",
       "    </tr>\n",
       "    <tr>\n",
       "      <th>1</th>\n",
       "      <td>NIGHT</td>\n",
       "      <td>snapshot-2017-07-22_20-30-01.jpg</td>\n",
       "    </tr>\n",
       "    <tr>\n",
       "      <th>2</th>\n",
       "      <td>NIGHT</td>\n",
       "      <td>snapshot-2017-07-22_20-40-01.jpg</td>\n",
       "    </tr>\n",
       "    <tr>\n",
       "      <th>3</th>\n",
       "      <td>NIGHT</td>\n",
       "      <td>snapshot-2017-07-22_20-50-01.jpg</td>\n",
       "    </tr>\n",
       "    <tr>\n",
       "      <th>4</th>\n",
       "      <td>NIGHT</td>\n",
       "      <td>snapshot-2017-07-22_21-00-01.jpg</td>\n",
       "    </tr>\n",
       "  </tbody>\n",
       "</table>\n",
       "</div>"
      ],
      "text/plain": [
       "   class                              name\n",
       "0  NIGHT  snapshot-2017-07-22_20-20-01.jpg\n",
       "1  NIGHT  snapshot-2017-07-22_20-30-01.jpg\n",
       "2  NIGHT  snapshot-2017-07-22_20-40-01.jpg\n",
       "3  NIGHT  snapshot-2017-07-22_20-50-01.jpg\n",
       "4  NIGHT  snapshot-2017-07-22_21-00-01.jpg"
      ]
     },
     "execution_count": 32,
     "metadata": {},
     "output_type": "execute_result"
    }
   ],
   "source": [
    "# Load the data from file, make it into a pretty pandas Dataframe\n",
    "data = pandas.read_json('samples/target.json').T\n",
    "data['name'] = data.index\n",
    "data.reset_index(inplace=True, drop=True) # reset index to numbers, drop extra index column\n",
    "data.head()"
   ]
  },
  {
   "cell_type": "code",
   "execution_count": 33,
   "metadata": {},
   "outputs": [
    {
     "data": {
      "text/plain": [
       "NIGHT    435\n",
       "WET      280\n",
       "DRY       67\n",
       "Name: class, dtype: int64"
      ]
     },
     "execution_count": 33,
     "metadata": {},
     "output_type": "execute_result"
    }
   ],
   "source": [
    "# Getting an idea of how the data is distributed\n",
    "data['class'].value_counts()"
   ]
  },
  {
   "cell_type": "markdown",
   "metadata": {
    "collapsed": true
   },
   "source": [
    "# Apply the predictor"
   ]
  },
  {
   "cell_type": "code",
   "execution_count": 34,
   "metadata": {},
   "outputs": [
    {
     "data": {
      "text/html": [
       "<div>\n",
       "<table border=\"1\" class=\"dataframe\">\n",
       "  <thead>\n",
       "    <tr style=\"text-align: right;\">\n",
       "      <th></th>\n",
       "      <th>class</th>\n",
       "      <th>name</th>\n",
       "      <th>prediction</th>\n",
       "    </tr>\n",
       "  </thead>\n",
       "  <tbody>\n",
       "    <tr>\n",
       "      <th>0</th>\n",
       "      <td>NIGHT</td>\n",
       "      <td>snapshot-2017-07-22_20-20-01.jpg</td>\n",
       "      <td>NIGHT</td>\n",
       "    </tr>\n",
       "    <tr>\n",
       "      <th>1</th>\n",
       "      <td>NIGHT</td>\n",
       "      <td>snapshot-2017-07-22_20-30-01.jpg</td>\n",
       "      <td>NIGHT</td>\n",
       "    </tr>\n",
       "    <tr>\n",
       "      <th>2</th>\n",
       "      <td>NIGHT</td>\n",
       "      <td>snapshot-2017-07-22_20-40-01.jpg</td>\n",
       "      <td>NIGHT</td>\n",
       "    </tr>\n",
       "    <tr>\n",
       "      <th>3</th>\n",
       "      <td>NIGHT</td>\n",
       "      <td>snapshot-2017-07-22_20-50-01.jpg</td>\n",
       "      <td>WET</td>\n",
       "    </tr>\n",
       "    <tr>\n",
       "      <th>4</th>\n",
       "      <td>NIGHT</td>\n",
       "      <td>snapshot-2017-07-22_21-00-01.jpg</td>\n",
       "      <td>WET</td>\n",
       "    </tr>\n",
       "  </tbody>\n",
       "</table>\n",
       "</div>"
      ],
      "text/plain": [
       "   class                              name prediction\n",
       "0  NIGHT  snapshot-2017-07-22_20-20-01.jpg      NIGHT\n",
       "1  NIGHT  snapshot-2017-07-22_20-30-01.jpg      NIGHT\n",
       "2  NIGHT  snapshot-2017-07-22_20-40-01.jpg      NIGHT\n",
       "3  NIGHT  snapshot-2017-07-22_20-50-01.jpg        WET\n",
       "4  NIGHT  snapshot-2017-07-22_21-00-01.jpg        WET"
      ]
     },
     "execution_count": 34,
     "metadata": {},
     "output_type": "execute_result"
    }
   ],
   "source": [
    "from roofcam.classifier import classify_wet_or_dry\n",
    "data['prediction'] = data.apply(lambda row: classify_wet_or_dry(\"samples/\" + row['name']), axis=1)\n",
    "data.head()"
   ]
  },
  {
   "cell_type": "code",
   "execution_count": 35,
   "metadata": {},
   "outputs": [
    {
     "data": {
      "text/plain": [
       "WET      405\n",
       "NIGHT    341\n",
       "DRY       26\n",
       "ERROR     10\n",
       "Name: prediction, dtype: int64"
      ]
     },
     "execution_count": 35,
     "metadata": {},
     "output_type": "execute_result"
    }
   ],
   "source": [
    "data['prediction'].value_counts()"
   ]
  },
  {
   "cell_type": "markdown",
   "metadata": {
    "collapsed": true
   },
   "source": [
    "# Analyzing the Results"
   ]
  },
  {
   "cell_type": "code",
   "execution_count": 84,
   "metadata": {},
   "outputs": [],
   "source": [
    "# Drop error rows, we're not that interested in them (errors are caused by faulty images)\n",
    "data = data[data['prediction'] != \"ERROR\"]\n",
    "\n",
    "# Drop NIGHT rows\n",
    "# data = data[data['prediction'] != \"NIGHT\"]\n",
    "# data = data[data['class'] != \"NIGHT\"]"
   ]
  },
  {
   "cell_type": "code",
   "execution_count": 85,
   "metadata": {},
   "outputs": [
    {
     "name": "stdout",
     "output_type": "stream",
     "text": [
      "TOTAL 315\n",
      "CORRECT 282 (90%)\n",
      "INCORRECT 33 (10%)\n"
     ]
    }
   ],
   "source": [
    "correct = len(data[data['prediction'] == data['class']])\n",
    "correct_percent = float(correct)/len(data) * 100\n",
    "print \"TOTAL\", len(data)\n",
    "print \"CORRECT\", correct, \"({0:0.0f}%)\".format(correct_percent)\n",
    "print \"INCORRECT\", len(data) - correct, \"({0:0.0f}%)\".format(100 - correct_percent)"
   ]
  },
  {
   "cell_type": "markdown",
   "metadata": {},
   "source": [
    "## Confusion Matrix (predicted class vs. actual class)"
   ]
  },
  {
   "cell_type": "code",
   "execution_count": 86,
   "metadata": {},
   "outputs": [
    {
     "name": "stdout",
     "output_type": "stream",
     "text": [
      "Confusion matrix:\n",
      "Predicted  DRY  WET  __all__\n",
      "Actual                      \n",
      "DRY         26   33       59\n",
      "WET          0  256      256\n",
      "__all__     26  289      315\n"
     ]
    }
   ],
   "source": [
    "from pandas_ml import ConfusionMatrix\n",
    "\n",
    "y_true=data['class']\n",
    "y_pred=data['prediction']\n",
    "confusion_matrix = ConfusionMatrix(y_true, y_pred)\n",
    "print(\"Confusion matrix:\\n%s\" % confusion_matrix)"
   ]
  },
  {
   "cell_type": "code",
   "execution_count": 87,
   "metadata": {},
   "outputs": [
    {
     "data": {
      "text/plain": [
       "<matplotlib.axes._subplots.AxesSubplot at 0x119ed2410>"
      ]
     },
     "execution_count": 87,
     "metadata": {},
     "output_type": "execute_result"
    },
    {
     "data": {
      "image/png": "[encoded data removed]",
      "text/plain": [
       "<matplotlib.figure.Figure at 0x119793cd0>"
      ]
     },
     "metadata": {},
     "output_type": "display_data"
    }
   ],
   "source": [
    "%matplotlib inline\n",
    "import matplotlib.pyplot as plt\n",
    "\n",
    "confusion_matrix.plot()"
   ]
  },
  {
   "cell_type": "code",
   "execution_count": null,
   "metadata": {
    "collapsed": true
   },
   "outputs": [],
   "source": []
  }
 ],
 "metadata": {
  "kernelspec": {
   "display_name": "Python 2",
   "language": "python",
   "name": "python2"
  },
  "language_info": {
   "codemirror_mode": {
    "name": "ipython",
    "version": 2
   },
   "file_extension": ".py",
   "mimetype": "text/x-python",
   "name": "python",
   "nbconvert_exporter": "python",
   "pygments_lexer": "ipython2",
   "version": "2.7.13"
  }
 },
 "nbformat": 4,
 "nbformat_minor": 2
}
